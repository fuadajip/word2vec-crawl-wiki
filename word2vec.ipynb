{
 "cells": [
  {
   "cell_type": "code",
   "execution_count": 2,
   "metadata": {},
   "outputs": [],
   "source": [
    "import time\n",
    "import multiprocessing\n",
    "import numpy as np\n",
    "import matplotlib.pyplot as plt\n",
    "import gensim\n",
    "from datetime import timedelta\n",
    "from sklearn.manifold import TSNE\n",
    "from sklearn import preprocessing\n",
    "\n",
    "from gensim.models import word2vec"
   ]
  },
  {
   "cell_type": "code",
   "execution_count": 3,
   "metadata": {},
   "outputs": [
    {
     "name": "stdout",
     "output_type": "stream",
     "text": [
      "1530557609.34819\n",
      "Training Word2Vec Model...\n",
      "Finished. Elapsed time: 0:07:14.240166\n"
     ]
    }
   ],
   "source": [
    "start_time = time.time()\n",
    "print(start_time)\n",
    "print('Training Word2Vec Model...')\n",
    "sentences = word2vec.LineSentence('idwiki.txt')\n",
    "id_w2v = word2vec.Word2Vec(sentences, size=200, workers=multiprocessing.cpu_count()-1)\n",
    "id_w2v.save('idwiki_word2vec_100.model')\n",
    "finish_time = time.time()\n",
    "\n",
    "print('Finished. Elapsed time: {}'.format(timedelta(seconds=finish_time-start_time)))"
   ]
  },
  {
   "cell_type": "code",
   "execution_count": 5,
   "metadata": {},
   "outputs": [],
   "source": [
    "# Load pre-trained Word2Vec model.\n",
    "model = gensim.models.Word2Vec.load('idwiki_word2vec_100.model')\n",
    "# print(model.wv['homoseksual']) "
   ]
  },
  {
   "cell_type": "code",
   "execution_count": 6,
   "metadata": {},
   "outputs": [
    {
     "name": "stderr",
     "output_type": "stream",
     "text": [
      "/Users/mac/anaconda2/envs/MachineLearning/lib/python3.6/site-packages/ipykernel_launcher.py:1: DeprecationWarning: Call to deprecated `similar_by_word` (Method will be removed in 4.0.0, use self.wv.similar_by_word() instead).\n",
      "  \"\"\"Entry point for launching an IPython kernel.\n"
     ]
    },
    {
     "data": {
      "text/plain": [
       "[('heteroseksual', 0.8067250847816467),\n",
       " ('lesbian', 0.7598209381103516),\n",
       " ('homoseksualitas', 0.7469243407249451),\n",
       " ('transgender', 0.719271719455719),\n",
       " ('seksual', 0.7182515859603882),\n",
       " ('gay', 0.7182447910308838),\n",
       " ('seks', 0.7063415050506592),\n",
       " ('biseksual', 0.6875171661376953),\n",
       " ('seksualitas', 0.6463794708251953),\n",
       " ('pedofilia', 0.6401165127754211)]"
      ]
     },
     "execution_count": 6,
     "metadata": {},
     "output_type": "execute_result"
    }
   ],
   "source": [
    "model.similar_by_word('homoseksual')"
   ]
  },
  {
   "cell_type": "code",
   "execution_count": 8,
   "metadata": {},
   "outputs": [
    {
     "data": {
      "text/plain": [
       "0.8289776767926407"
      ]
     },
     "execution_count": 8,
     "metadata": {},
     "output_type": "execute_result"
    }
   ],
   "source": [
    "model.wv.similarity('lesbian', 'gay')"
   ]
  },
  {
   "cell_type": "code",
   "execution_count": 9,
   "metadata": {},
   "outputs": [],
   "source": [
    "def tsne_plot(model):\n",
    "    # Creates and TSNE model and plots it\n",
    "    print(model[model.wv.vocab])\n",
    "    X = model[model.wv.vocab]\n",
    "\n",
    "    tsne = TSNE(n_components=2)\n",
    "    X_tsne = tsne.fit_transform(X)\n",
    "\n",
    "    plt.scatter(X_tsne[:, 0], X_tsne[:, 1])\n",
    "    plt.show()"
   ]
  },
  {
   "cell_type": "code",
   "execution_count": null,
   "metadata": {},
   "outputs": [
    {
     "name": "stderr",
     "output_type": "stream",
     "text": [
      "/Users/mac/anaconda2/envs/MachineLearning/lib/python3.6/site-packages/ipykernel_launcher.py:3: DeprecationWarning: Call to deprecated `__getitem__` (Method will be removed in 4.0.0, use self.wv.__getitem__() instead).\n",
      "  This is separate from the ipykernel package so we can avoid doing imports until\n"
     ]
    },
    {
     "name": "stdout",
     "output_type": "stream",
     "text": [
      "[[ 2.2264946e+00  2.4032760e+00 -1.8306071e-01 ... -3.1396174e+00\n",
      "  -2.9815490e+00 -2.6129081e+00]\n",
      " [ 1.4345711e+00 -1.9534758e+00  9.5913881e-01 ...  2.3036542e+00\n",
      "   7.6585257e-01  7.0607597e-01]\n",
      " [ 3.1692275e-01  4.3938169e-01  9.9296218e-01 ...  1.3959004e+00\n",
      "   8.2697558e-01 -3.2604024e-01]\n",
      " ...\n",
      " [-1.4969951e-03  5.5589881e-03  1.2573836e-02 ...  1.6409623e-02\n",
      "   6.1306421e-02 -5.1830456e-02]\n",
      " [-6.9622591e-02 -4.1590374e-02  1.7151482e-02 ... -1.5294784e-01\n",
      "  -9.8305382e-02  2.7549308e-02]\n",
      " [-4.6452671e-02  4.4290867e-02  4.1966461e-02 ...  5.6597169e-02\n",
      "   6.8098299e-02 -9.1791287e-02]]\n"
     ]
    },
    {
     "name": "stderr",
     "output_type": "stream",
     "text": [
      "/Users/mac/anaconda2/envs/MachineLearning/lib/python3.6/site-packages/ipykernel_launcher.py:4: DeprecationWarning: Call to deprecated `__getitem__` (Method will be removed in 4.0.0, use self.wv.__getitem__() instead).\n",
      "  after removing the cwd from sys.path.\n"
     ]
    }
   ],
   "source": [
    "tsne_plot(model)"
   ]
  },
  {
   "cell_type": "code",
   "execution_count": null,
   "metadata": {},
   "outputs": [],
   "source": []
  }
 ],
 "metadata": {
  "kernelspec": {
   "display_name": "Python 3",
   "language": "python",
   "name": "python3"
  },
  "language_info": {
   "codemirror_mode": {
    "name": "ipython",
    "version": 3
   },
   "file_extension": ".py",
   "mimetype": "text/x-python",
   "name": "python",
   "nbconvert_exporter": "python",
   "pygments_lexer": "ipython3",
   "version": "3.6.2"
  }
 },
 "nbformat": 4,
 "nbformat_minor": 2
}
