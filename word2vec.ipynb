{
 "cells": [
  {
   "cell_type": "code",
   "execution_count": 2,
   "metadata": {},
   "outputs": [],
   "source": [
    "import time\n",
    "import multiprocessing\n",
    "import numpy as np\n",
    "import matplotlib.pyplot as plt\n",
    "import gensim\n",
    "from datetime import timedelta\n",
    "from sklearn.manifold import TSNE\n",
    "from sklearn import preprocessing\n",
    "\n",
    "from gensim.models import word2vec"
   ]
  },
  {
   "cell_type": "code",
   "execution_count": 4,
   "metadata": {},
   "outputs": [
    {
     "name": "stdout",
     "output_type": "stream",
     "text": [
      "1530534047.4113028\n",
      "Training Word2Vec Model...\n",
      "Finished. Elapsed time: 0:00:00.437635\n"
     ]
    }
   ],
   "source": [
    "start_time = time.time()\n",
    "print(start_time)\n",
    "print('Training Word2Vec Model...')\n",
    "sentences = word2vec.LineSentence('Output.txt')\n",
    "id_w2v = word2vec.Word2Vec(sentences, size=200, workers=multiprocessing.cpu_count()-1)\n",
    "id_w2v.save('idwiki_word2vec_100.model')\n",
    "finish_time = time.time()\n",
    "\n",
    "print('Finished. Elapsed time: {}'.format(timedelta(seconds=finish_time-start_time)))"
   ]
  },
  {
   "cell_type": "code",
   "execution_count": 5,
   "metadata": {},
   "outputs": [
    {
     "name": "stdout",
     "output_type": "stream",
     "text": [
      "[-0.12781969 -0.08305411  0.13284284  0.11839664 -0.07937418  0.07817344\n",
      "  0.08885124  0.4326799  -0.04586782  0.26925495  0.06866372  0.2925648\n",
      " -0.04841712 -0.27583694 -0.04377427  0.09984585  0.12871338  0.13967277\n",
      "  0.10100341  0.20865093 -0.11517121  0.07292421  0.05623702  0.22461994\n",
      " -0.12078209 -0.11410727 -0.24475503  0.23505805  0.00456865 -0.3697079\n",
      " -0.3594299  -0.06891169  0.09167973  0.07921359 -0.13590899  0.22231059\n",
      " -0.12697609 -0.33359274 -0.14214131 -0.19696718  0.08840409 -0.23686452\n",
      " -0.31436667  0.28052917 -0.02328676  0.03463514 -0.3220669   0.10591533\n",
      "  0.16635597  0.03832937 -0.03999395 -0.20716439  0.25336945  0.3165656\n",
      " -0.18386336  0.1969709  -0.11713884 -0.07855119  0.10562159  0.0583708\n",
      "  0.13478407 -0.23093161 -0.2802552   0.06600995  0.08478808 -0.34971267\n",
      " -0.2760956   0.12272701  0.07059526  0.29632857  0.05253367 -0.02610423\n",
      " -0.06158752 -0.11718746 -0.06669193 -0.1277168   0.1453374  -0.04336322\n",
      "  0.01010755 -0.31399742 -0.326281   -0.05785037 -0.21059616  0.45875052\n",
      " -0.12860475  0.17286757  0.28074616 -0.25031328  0.06762765  0.12097268\n",
      " -0.0920736   0.1949524  -0.08926048 -0.18335626  0.01290265  0.31089476\n",
      "  0.25806385  0.07456525  0.1659547  -0.11980838  0.03798306  0.0396406\n",
      " -0.32231575 -0.19099201  0.18519087 -0.07667844  0.26354682  0.07438971\n",
      " -0.24444236  0.07993575  0.10582515  0.14826733  0.01127333  0.16424029\n",
      " -0.12748262 -0.13263246 -0.09604229  0.02243585 -0.10945418  0.12143872\n",
      " -0.0593892  -0.16787754 -0.0815711  -0.05972751 -0.13208285 -0.21278055\n",
      " -0.24597052 -0.24220498 -0.18602753 -0.3108428  -0.04388785 -0.12098701\n",
      " -0.08437596  0.01895388  0.12288938  0.10817371 -0.17249882 -0.00146515\n",
      " -0.38779637 -0.0966281   0.08516295 -0.3417221  -0.1029769   0.05296896\n",
      " -0.11272842 -0.09659801 -0.07839912 -0.10740913 -0.13436496 -0.09929021\n",
      " -0.04730916  0.15151842  0.07707269 -0.09904234  0.09606554  0.11491746\n",
      "  0.22430453  0.18724486  0.01221472  0.02333784  0.26280323 -0.12531479\n",
      "  0.2527756   0.13526422  0.0830244   0.08408553  0.0725119   0.29456073\n",
      " -0.15603712  0.20982163  0.12899624  0.01573169  0.02559062  0.30278975\n",
      "  0.02174345  0.00317107  0.24086797  0.01437956  0.21556121  0.3341713\n",
      " -0.14330623 -0.10961609  0.06331128 -0.04719816 -0.26000884 -0.0637644\n",
      " -0.0150562   0.11409079 -0.16426724 -0.11258026 -0.09116745 -0.23918575\n",
      "  0.11325835 -0.11919195 -0.1252429  -0.14536367  0.14990497 -0.03832011\n",
      "  0.03133267  0.24103193]\n"
     ]
    }
   ],
   "source": [
    "# Load pre-trained Word2Vec model.\n",
    "model = gensim.models.Word2Vec.load('idwiki_word2vec_100.model')\n",
    "print(model.wv['homoseksual']) "
   ]
  },
  {
   "cell_type": "code",
   "execution_count": 6,
   "metadata": {},
   "outputs": [
    {
     "name": "stderr",
     "output_type": "stream",
     "text": [
      "/Users/mac/anaconda2/envs/MachineLearning/lib/python3.6/site-packages/ipykernel_launcher.py:1: DeprecationWarning: Call to deprecated `similar_by_word` (Method will be removed in 4.0.0, use self.wv.similar_by_word() instead).\n",
      "  \"\"\"Entry point for launching an IPython kernel.\n"
     ]
    },
    {
     "data": {
      "text/plain": [
       "[('tersebut', 0.9999364614486694),\n",
       " ('Dalam', 0.9999349117279053),\n",
       " ('selama', 0.9999325275421143),\n",
       " ('ia', 0.9999304413795471),\n",
       " ('berbagai', 0.9999303817749023),\n",
       " ('terjadi', 0.9999288320541382),\n",
       " ('membuat', 0.9999284744262695),\n",
       " ('suatu', 0.9999284148216248),\n",
       " ('kali', 0.99992835521698),\n",
       " ('sistem', 0.9999277591705322)]"
      ]
     },
     "execution_count": 6,
     "metadata": {},
     "output_type": "execute_result"
    }
   ],
   "source": [
    "model.similar_by_word('homoseksual')"
   ]
  },
  {
   "cell_type": "code",
   "execution_count": null,
   "metadata": {},
   "outputs": [],
   "source": []
  }
 ],
 "metadata": {
  "kernelspec": {
   "display_name": "Python 3",
   "language": "python",
   "name": "python3"
  },
  "language_info": {
   "codemirror_mode": {
    "name": "ipython",
    "version": 3
   },
   "file_extension": ".py",
   "mimetype": "text/x-python",
   "name": "python",
   "nbconvert_exporter": "python",
   "pygments_lexer": "ipython3",
   "version": "3.6.2"
  }
 },
 "nbformat": 4,
 "nbformat_minor": 2
}
